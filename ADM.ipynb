{
  "nbformat": 4,
  "nbformat_minor": 0,
  "metadata": {
    "colab": {
      "provenance": [],
      "authorship_tag": "ABX9TyNV4CHi/4A++OOeMrtdU5Ug",
      "include_colab_link": true
    },
    "kernelspec": {
      "name": "python3",
      "display_name": "Python 3"
    },
    "language_info": {
      "name": "python"
    }
  },
  "cells": [
    {
      "cell_type": "markdown",
      "metadata": {
        "id": "view-in-github",
        "colab_type": "text"
      },
      "source": [
        "<a href=\"https://colab.research.google.com/github/ilmondovero/sf/blob/main/ADM.ipynb\" target=\"_parent\"><img src=\"https://colab.research.google.com/assets/colab-badge.svg\" alt=\"Open In Colab\"/></a>"
      ]
    },
    {
      "cell_type": "code",
      "execution_count": null,
      "metadata": {
        "id": "p0ormURHSjHe"
      },
      "outputs": [],
      "source": [
        "!pip install tiingo\n",
        "\"\"\"\n",
        "Created on Fri Jun 11 10:03:30 2018\n",
        "@author: Dario Marinelli\n",
        "\"\"\"\n",
        "from tiingo import TiingoClient #pip install tiingo se manca il pacchetto su anaconda\n",
        "import pandas as pd\n",
        "capital=100000\n",
        "config = {}\n",
        "config['session'] = True\n",
        "config['api_key'] = \"set yours https://api.tiingo.com/account/api/token\"\n",
        "client = TiingoClient(config)\n",
        "capitale=100000#capitale iniziale\n",
        "df=client.get_dataframe([\"SPY\",\"SCZ\",\"TLT\"],frequency='monthly',metric_name='adjClose',startDate='2007-01-01')#scarico i dati\n",
        "df_az=df[[\"SPY\",\"SCZ\"]].copy()#copio i dati azionari in un dataframe\n",
        "df_ob=df[\"TLT\"].copy()#copio i dati obbligazionari in un dataframe\n",
        "df_az_momentum=(df_az.pct_change()+df_az.pct_change(3)+df_az.pct_change(6)).shift().dropna()#calcolo il momentum a 1,3,6 mesi\n",
        "df_az_rank=df_az_momentum.rank(axis=1,ascending=False).applymap(lambda x:0 if x>1 else 1)#faccio la classifica per vedere il più forte\n",
        "df_azionario=(df_az_momentum>0).sum(axis=1).apply(lambda x:1 if x>=1 else 0)#applico il segnale all'azionario\n",
        "df_obbligazionario=df_azionario.apply(lambda x:1 if x==0 else 0)#applico il segnale opposto all'obbligazionario\n",
        "df_rendimento_az=((df_az_rank*df_az.pct_change()).sum(axis=1)*df_azionario)\n",
        "df_rendimento_ob=(df_ob.pct_change()*df_obbligazionario).dropna()#sommo i rendimenti tra azionario e obbligazionario\n",
        "df_az[\"ADM\"]=((1+(df_rendimento_az+df_rendimento_ob)).cumprod()-1)*capitale+capitale#faccio la produttoria dei rendimenti sui soldi\n",
        "df_az[\"AZ\"]=((1+(df_rendimento_az)).cumprod()-1)*capitale+capitale\n",
        "df_az[\"OBB\"]=((1+(df_rendimento_ob)).cumprod()-1)*capitale+capitale\n",
        "df_az[\"TLT\"]=((1+(df_ob.pct_change())).cumprod()-1)*capitale+capitale\n",
        "df_az.dropna(inplace=True)#cancello i dati mancanti\n",
        "df_az=(df_az/df_az.iloc[0])*100#normalizzo a 100\n",
        "df_az.plot(use_index=True,legend=True,title=\"Accelerating Dual Momentum\")#Plotto la Equity"
      ]
    }
  ]
}